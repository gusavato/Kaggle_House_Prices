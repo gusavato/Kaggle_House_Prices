{
 "cells": [
  {
   "cell_type": "code",
   "execution_count": 9,
   "id": "8ab41658",
   "metadata": {},
   "outputs": [],
   "source": [
    "import pandas as pd\n",
    "from sklearn.ensemble import RandomForestRegressor as RFR\n",
    "from sklearn.model_selection import RandomizedSearchCV"
   ]
  },
  {
   "cell_type": "code",
   "execution_count": 5,
   "id": "1fa1126e",
   "metadata": {},
   "outputs": [],
   "source": [
    "y = pd.read_csv('../data/y.csv')\n",
    "X_train_top5 = pd.read_parquet('../data/X_train_top5.parquet')\n",
    "X_test_top5 = pd.read_parquet('../data/X_test_top5.parquet')\n",
    "X_train_w0 = pd.read_parquet('../data/X_train_w0.parquet')\n",
    "X_test_w0 = pd.read_parquet('../data/X_test_w0.parquet')\n",
    "X_train_all = pd.read_parquet('../data/X_train_all.parquet')\n",
    "X_test_all = pd.read_parquet('../data/X_test_all.parquet')"
   ]
  },
  {
   "cell_type": "code",
   "execution_count": 12,
   "id": "8d0084d7",
   "metadata": {},
   "outputs": [],
   "source": [
    "def train(X,y):  \n",
    "    n_estimators=[int(x) for x in np.linspace(200, 800, 10)]  \n",
    "\n",
    "    max_features=['sqrt']   \n",
    "\n",
    "    min_samples_split=[2, 3, 4, 5]\n",
    "    \n",
    "    bootstrap=[True, False]  \n",
    "\n",
    "    params={'n_estimators': n_estimators,\n",
    "            'max_features': max_features,\n",
    "            'min_samples_split':min_samples_split,\n",
    "            'bootstrap': bootstrap}\n",
    "\n",
    "    rfr = RFR()\n",
    "\n",
    "    rf_random = RandomizedSearchCV(estimator=rfr,\n",
    "                                   param_distributions=params,\n",
    "                                   n_iter=30,\n",
    "                                   cv=5,\n",
    "                                   n_jobs=-1,\n",
    "                                   verbose=0,\n",
    "                                   scoring='neg_root_mean_squared_error')\n",
    "\n",
    "    return rf_random.fit(X,y)"
   ]
  },
  {
   "cell_type": "code",
   "execution_count": 13,
   "id": "45b8b53a",
   "metadata": {
    "scrolled": false
   },
   "outputs": [],
   "source": [
    "modelo_1 = train(X_train_top5,y)"
   ]
  },
  {
   "cell_type": "code",
   "execution_count": 14,
   "id": "24e2c64c",
   "metadata": {},
   "outputs": [
    {
     "data": {
      "text/plain": [
       "-18426.422352274036"
      ]
     },
     "execution_count": 14,
     "metadata": {},
     "output_type": "execute_result"
    }
   ],
   "source": [
    "modelo_1.best_score_"
   ]
  },
  {
   "cell_type": "code",
   "execution_count": null,
   "id": "fd4ace7d",
   "metadata": {},
   "outputs": [],
   "source": []
  }
 ],
 "metadata": {
  "kernelspec": {
   "display_name": "Python 3 (ipykernel)",
   "language": "python",
   "name": "python3"
  },
  "language_info": {
   "codemirror_mode": {
    "name": "ipython",
    "version": 3
   },
   "file_extension": ".py",
   "mimetype": "text/x-python",
   "name": "python",
   "nbconvert_exporter": "python",
   "pygments_lexer": "ipython3",
   "version": "3.11.5"
  },
  "varInspector": {
   "cols": {
    "lenName": 16,
    "lenType": 16,
    "lenVar": 40
   },
   "kernels_config": {
    "python": {
     "delete_cmd_postfix": "",
     "delete_cmd_prefix": "del ",
     "library": "var_list.py",
     "varRefreshCmd": "print(var_dic_list())"
    },
    "r": {
     "delete_cmd_postfix": ") ",
     "delete_cmd_prefix": "rm(",
     "library": "var_list.r",
     "varRefreshCmd": "cat(var_dic_list()) "
    }
   },
   "types_to_exclude": [
    "module",
    "function",
    "builtin_function_or_method",
    "instance",
    "_Feature"
   ],
   "window_display": false
  }
 },
 "nbformat": 4,
 "nbformat_minor": 5
}
